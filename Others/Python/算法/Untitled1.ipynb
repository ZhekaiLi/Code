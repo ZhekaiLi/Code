{
 "cells": [
  {
   "cell_type": "markdown",
   "metadata": {},
   "source": [
    "# 8.Greedy algorithm"
   ]
  },
  {
   "cell_type": "raw",
   "metadata": {},
   "source": [
    "1.Choose locally optimal solution every step\n",
    "2.set(list) transform list to gather\n",
    "    a = set(list1)\n",
    "    b = set(list2)\n",
    "    a & b:交集\n",
    "    a | b:并集 \n",
    "    a - b:差集"
   ]
  },
  {
   "cell_type": "raw",
   "metadata": {},
   "source": [
    "You are a radio producer and just finished making a radio program.\n",
    "You want to make this program availiable for all people in your county (7 states: NO.1 to 7).\n",
    "There are lots of radio station but the coverage area of each of them is limited."
   ]
  },
  {
   "cell_type": "code",
   "execution_count": 1,
   "metadata": {},
   "outputs": [],
   "source": [
    "states_uncovered = set([\"1\", \"2\", \"3\", \"4\", \"5\", \"6\", \"7\"])\n",
    "states_covered = set([])\n",
    "stations = {}\n",
    "stations[\"A\"] = set([\"1\", \"4\", \"5\", \"6\"])\n",
    "stations[\"B\"] = set([\"1\", \"2\", \"7\"])\n",
    "stations[\"C\"] = set([\"4\", \"6\"])\n",
    "stations[\"D\"] = set([\"3\", \"4\", \"5\", \"7\"])\n",
    "stations[\"E\"] = set([\"2\", \"3\"])"
   ]
  },
  {
   "cell_type": "code",
   "execution_count": 2,
   "metadata": {},
   "outputs": [
    {
     "data": {
      "text/plain": [
       "{'A': {'1', '4', '5', '6'},\n",
       " 'B': {'1', '2', '7'},\n",
       " 'C': {'4', '6'},\n",
       " 'D': {'3', '4', '5', '7'},\n",
       " 'E': {'2', '3'}}"
      ]
     },
     "execution_count": 2,
     "metadata": {},
     "output_type": "execute_result"
    }
   ],
   "source": [
    "stations"
   ]
  },
  {
   "cell_type": "code",
   "execution_count": 5,
   "metadata": {},
   "outputs": [],
   "source": [
    "def main(stations, states_covered, states_uncovered):\n",
    "    lis = []\n",
    "    i = 0\n",
    "    while len(states_covered) != len(states_uncovered):\n",
    "        best_station = None\n",
    "        best_area = set([])\n",
    "        biggest_area = set([])\n",
    "        for station, states in stations.items():\n",
    "            if len((states | states_covered) - states_covered) > len(biggest_area):\n",
    "                best_station = station\n",
    "                biggest_area = (states | states_covered) - states_covered\n",
    "        states_covered = states_covered | biggest_area\n",
    "        lis.append(best_station)\n",
    "        i += 1\n",
    "        if i > 10: break\n",
    "    return lis\n",
    "            "
   ]
  },
  {
   "cell_type": "code",
   "execution_count": 6,
   "metadata": {},
   "outputs": [
    {
     "data": {
      "text/plain": [
       "['A', 'B', 'D']"
      ]
     },
     "execution_count": 6,
     "metadata": {},
     "output_type": "execute_result"
    }
   ],
   "source": [
    "main(stations, states_covered, states_uncovered)"
   ]
  },
  {
   "cell_type": "markdown",
   "metadata": {},
   "source": [
    "# 9.Dynamic rules"
   ]
  },
  {
   "cell_type": "raw",
   "metadata": {},
   "source": [
    "bag problem (unsolved)"
   ]
  },
  {
   "cell_type": "code",
   "execution_count": 8,
   "metadata": {},
   "outputs": [],
   "source": [
    "bag = 6\n",
    "things = {\"water\":[3, 10], \"book\":[1, 3], \"food\":[2, 9], \"jacket\":[2, 5], \"camera\":[1, 6]}"
   ]
  },
  {
   "cell_type": "code",
   "execution_count": 12,
   "metadata": {},
   "outputs": [],
   "source": [
    "list_cost = [[[0] * bag] * len(things)]\n",
    "list_things = [[[[]] * bag] * len(things)]"
   ]
  },
  {
   "cell_type": "code",
   "execution_count": 11,
   "metadata": {},
   "outputs": [
    {
     "data": {
      "text/plain": [
       "[[[0, 0, 0, 0, 0, 0],\n",
       "  [0, 0, 0, 0, 0, 0],\n",
       "  [0, 0, 0, 0, 0, 0],\n",
       "  [0, 0, 0, 0, 0, 0],\n",
       "  [0, 0, 0, 0, 0, 0]]]"
      ]
     },
     "execution_count": 11,
     "metadata": {},
     "output_type": "execute_result"
    }
   ],
   "source": [
    "for name, charas in things.items():\n",
    "    for i in range(1, 7):\n",
    "        if i: \n",
    "            if charas[0] < i:\n",
    "                \n",
    "                \n",
    "        elif "
   ]
  },
  {
   "cell_type": "code",
   "execution_count": 13,
   "metadata": {},
   "outputs": [
    {
     "data": {
      "text/plain": [
       "[[[[], [], [], [], [], []],\n",
       "  [[], [], [], [], [], []],\n",
       "  [[], [], [], [], [], []],\n",
       "  [[], [], [], [], [], []],\n",
       "  [[], [], [], [], [], []]]]"
      ]
     },
     "execution_count": 13,
     "metadata": {},
     "output_type": "execute_result"
    }
   ],
   "source": [
    "list_things"
   ]
  },
  {
   "cell_type": "code",
   "execution_count": null,
   "metadata": {},
   "outputs": [],
   "source": []
  }
 ],
 "metadata": {
  "kernelspec": {
   "display_name": "Python 3",
   "language": "python",
   "name": "python3"
  },
  "language_info": {
   "codemirror_mode": {
    "name": "ipython",
    "version": 3
   },
   "file_extension": ".py",
   "mimetype": "text/x-python",
   "name": "python",
   "nbconvert_exporter": "python",
   "pygments_lexer": "ipython3",
   "version": "3.7.0"
  }
 },
 "nbformat": 4,
 "nbformat_minor": 2
}
