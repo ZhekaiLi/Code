{
 "cells": [
  {
   "cell_type": "markdown",
   "metadata": {},
   "source": [
    "# 5.Hash table"
   ]
  },
  {
   "cell_type": "raw",
   "metadata": {},
   "source": [
    "1.Hash function:\n",
    "    1.whatever data you give it, it gives you a number back\n",
    "    2.its capability is very important:\n",
    "        O(1):a good hash function evenly map keys to hash table\n",
    "        O(n):the worst hash function map keys to one position, where is a long linked list\n",
    "2.Hash table in python: dictionary\n",
    "3.Cache: most website use cache to store common url to increase the visit speed (through hash table)"
   ]
  },
  {
   "cell_type": "markdown",
   "metadata": {},
   "source": [
    "# 6.BFS"
   ]
  },
  {
   "cell_type": "raw",
   "metadata": {},
   "source": [
    "1.queue: FIFO (first in first out)\n",
    "  stack: LIFO (last in first out)\n",
    "2.use hash table to come true the map\n",
    "    1.map is consist of multipile nodes\n",
    "    2.every node is adjacent to some nodes\n",
    "    3.hash table helps to make one node map to other nodes\n",
    "3.Deque(double-end queue): search_queue = deque() \n",
    "    1.a = search_queue.popleft() # take out the first element\n",
    "4.O(V+E): V(vertice), E(edge)\n",
    "5.Topological sort: if mission A relies on mission B, mission A should behind B in the list"
   ]
  },
  {
   "cell_type": "code",
   "execution_count": 55,
   "metadata": {},
   "outputs": [],
   "source": [
    "graph = dict()\n",
    "graph[\"Bob\"] = [\"Mike\", \"Kevin\"]; graph[\"I\"] = [\"Mike\", \"Bob\", \"Lee\"]; graph[\"Lee\"] = [\"Bob\", \"Jane\", \"James_doctor\"]"
   ]
  },
  {
   "cell_type": "code",
   "execution_count": 56,
   "metadata": {},
   "outputs": [],
   "source": [
    "def person_is_doctor(graph):\n",
    "    from collections import deque\n",
    "    search_queue = deque();\n",
    "    searched = []; # avoid duplication check and endless loop\n",
    "    search_queue += graph.get(\"I\");\n",
    "    while search_queue:\n",
    "        person = search_queue.popleft(); # take out the first element\n",
    "        if person not in searched:\n",
    "            if person[-6:] == \"doctor\": return person + \" is a doctor\";\n",
    "            else:\n",
    "                if graph.get(person) != None: search_queue += graph.get(person)\n",
    "    return False;"
   ]
  },
  {
   "cell_type": "code",
   "execution_count": 57,
   "metadata": {},
   "outputs": [
    {
     "data": {
      "text/plain": [
       "'James_doctor is a doctor'"
      ]
     },
     "execution_count": 57,
     "metadata": {},
     "output_type": "execute_result"
    }
   ],
   "source": [
    "person_is_doctor(graph)"
   ]
  },
  {
   "cell_type": "markdown",
   "metadata": {},
   "source": [
    "# 7.Dijkstra arithmetic"
   ]
  },
  {
   "cell_type": "raw",
   "metadata": {},
   "source": [
    "1.Weight:\n",
    "    1.shortest unweighted path: BFS\n",
    "    2.shortest unweighted path: Distra arithmetic (no circle)\n",
    "2.Negative side is not allowed in distra arithmetic,\n",
    "    because it assume there is no short path for the vertice that have been disposed\n",
    "3.Needs 3 hash tables:\n",
    "    1.Graph\n",
    "    2.Costs\n",
    "    3.Parents"
   ]
  },
  {
   "cell_type": "code",
   "execution_count": 89,
   "metadata": {},
   "outputs": [],
   "source": [
    "# Graph table\n",
    "graph = {}\n",
    "graph[\"start\"] = {}; graph[\"start\"][\"a\"] = 6; graph[\"start\"][\"b\"] = 2\n",
    "graph[\"a\"] = {}; graph[\"a\"][\"end\"] = 1\n",
    "graph[\"b\"] = {}; graph[\"b\"][\"a\"] = 3; graph[\"b\"][\"end\"] = 5\n",
    "graph[\"end\"] = {}"
   ]
  },
  {
   "cell_type": "code",
   "execution_count": 90,
   "metadata": {},
   "outputs": [],
   "source": [
    "# Costs table\n",
    "costs = {}\n",
    "costs[\"a\"] = 6\n",
    "costs[\"b\"] = 2\n",
    "costs[\"end\"] = float(\"inf\")"
   ]
  },
  {
   "cell_type": "code",
   "execution_count": 91,
   "metadata": {},
   "outputs": [],
   "source": [
    "# Parents table\n",
    "parents = {}\n",
    "parents[\"a\"] = \"start\"\n",
    "parents[\"b\"] = \"start\"\n",
    "parents[\"end\"] = None"
   ]
  },
  {
   "cell_type": "code",
   "execution_count": 1,
   "metadata": {},
   "outputs": [],
   "source": [
    "def dijkstra_arithmetic(graph, costs, parents):\n",
    "    processed = []\n",
    "    node = find_lowest_cost_node(costs, processed);\n",
    "    while node is not None:\n",
    "        cost = costs[node]\n",
    "        neighbors = graph[node]\n",
    "        for neighbor in neighbors.keys():\n",
    "            new_cost = cost + neighbors[neighbor]\n",
    "            if costs[neighbor] > new_cost:\n",
    "                costs[neighbor] = new_cost\n",
    "                parents[neighbor] = node\n",
    "        processed.append(node)\n",
    "        node = node = find_lowest_cost_node(costs, processed);\n",
    "    return graph, costs, parents\n",
    "\n",
    "def find_lowest_cost_node(costs, processed): # find the node with the least overhead among the unprocessed nodes\n",
    "    loest_cost = float(\"inf\")\n",
    "    loest_cost_node = None\n",
    "    for node in costs.keys():\n",
    "        cost = costs[node]\n",
    "        if cost < loest_cost and node not in processed:\n",
    "            loest_cost = cost\n",
    "            loest_cost_node = node\n",
    "    return loest_cost_node "
   ]
  },
  {
   "cell_type": "code",
   "execution_count": 2,
   "metadata": {},
   "outputs": [
    {
     "ename": "NameError",
     "evalue": "name 'graph' is not defined",
     "output_type": "error",
     "traceback": [
      "\u001b[1;31m---------------------------------------------------------------------------\u001b[0m",
      "\u001b[1;31mNameError\u001b[0m                                 Traceback (most recent call last)",
      "\u001b[1;32m<ipython-input-2-a826b38a4d8b>\u001b[0m in \u001b[0;36m<module>\u001b[1;34m()\u001b[0m\n\u001b[1;32m----> 1\u001b[1;33m \u001b[0mdijkstra_arithmetic\u001b[0m\u001b[1;33m(\u001b[0m\u001b[0mgraph\u001b[0m\u001b[1;33m,\u001b[0m \u001b[0mcosts\u001b[0m\u001b[1;33m,\u001b[0m \u001b[0mparents\u001b[0m\u001b[1;33m)\u001b[0m\u001b[1;33m\u001b[0m\u001b[0m\n\u001b[0m",
      "\u001b[1;31mNameError\u001b[0m: name 'graph' is not defined"
     ]
    }
   ],
   "source": [
    "dijkstra_arithmetic(graph, costs, parents)"
   ]
  },
  {
   "cell_type": "code",
   "execution_count": null,
   "metadata": {},
   "outputs": [],
   "source": []
  }
 ],
 "metadata": {
  "kernelspec": {
   "display_name": "Python 3",
   "language": "python",
   "name": "python3"
  },
  "language_info": {
   "codemirror_mode": {
    "name": "ipython",
    "version": 3
   },
   "file_extension": ".py",
   "mimetype": "text/x-python",
   "name": "python",
   "nbconvert_exporter": "python",
   "pygments_lexer": "ipython3",
   "version": "3.7.0"
  }
 },
 "nbformat": 4,
 "nbformat_minor": 2
}
