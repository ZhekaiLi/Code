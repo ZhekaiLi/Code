{
 "cells": [
  {
   "cell_type": "markdown",
   "metadata": {},
   "source": [
    "# 3.Recursion"
   ]
  },
  {
   "cell_type": "raw",
   "metadata": {},
   "source": [
    "1.Stack, call stack\n",
    "2.Every recursion has 2 basic cases:\n",
    "    base case:\n",
    "    recursive case: call itself"
   ]
  },
  {
   "cell_type": "markdown",
   "metadata": {},
   "source": [
    "# 4.Quick sort"
   ]
  },
  {
   "cell_type": "raw",
   "metadata": {},
   "source": [
    "1.D&C (divide and conquer):\n",
    "    1.purpose: shrink the scale of the question in every recursion\n",
    "    2.working principle:\n",
    "        1.find an easy base case\n",
    "        2.decide how to shrink the scale of the quesiton, make it meet the base case"
   ]
  },
  {
   "cell_type": "raw",
   "metadata": {},
   "source": [
    "How to sum a list:\n",
    "    1.base case: the list has no or only one element\n",
    "    2.add one number every recursion"
   ]
  },
  {
   "cell_type": "code",
   "execution_count": 29,
   "metadata": {},
   "outputs": [],
   "source": [
    "def sum_list(lis):\n",
    "    if len(lis) == 0:\n",
    "        return 0;\n",
    "    else:\n",
    "        return lis[0] + sum_list(lis[1:]);"
   ]
  },
  {
   "cell_type": "code",
   "execution_count": 31,
   "metadata": {},
   "outputs": [
    {
     "data": {
      "text/plain": [
       "18"
      ]
     },
     "execution_count": 31,
     "metadata": {},
     "output_type": "execute_result"
    }
   ],
   "source": [
    "lis = [1,4,6,7]\n",
    "sum_list(lis)"
   ]
  },
  {
   "cell_type": "code",
   "execution_count": 32,
   "metadata": {},
   "outputs": [],
   "source": [
    "def count_list(lis):\n",
    "    if len(lis) == 0:\n",
    "        return 0;\n",
    "    else:\n",
    "        return 1 + count_list(lis[1:]);    "
   ]
  },
  {
   "cell_type": "code",
   "execution_count": 33,
   "metadata": {},
   "outputs": [
    {
     "data": {
      "text/plain": [
       "4"
      ]
     },
     "execution_count": 33,
     "metadata": {},
     "output_type": "execute_result"
    }
   ],
   "source": [
    "lis = [1,4,6,7]\n",
    "count_list(lis)"
   ]
  },
  {
   "cell_type": "code",
   "execution_count": 37,
   "metadata": {},
   "outputs": [],
   "source": [
    "def findmax_list_kl(lis): #my version\n",
    "    if len(lis) == 1:\n",
    "        return lis[0];\n",
    "    else:\n",
    "        if lis[0] > lis[1]:\n",
    "            lis[0], lis[1] = lis[1], lis[0];\n",
    "        return findmax_list(lis[1:])      \n",
    "\n",
    "def findmax_list_book(lis): #book's version,\n",
    "#the key point of call stack in recursion is like first finish the calculating progress, then calclulate step by step from back\n",
    "    if len(lis) == 2:\n",
    "        return lis[0] if lis[0] > lis[1] else lis[1];\n",
    "    else:\n",
    "        sub_max = findmax_list_book(lis[1:])\n",
    "        return lis[0] if lis[0] > sub_max else sub_max;"
   ]
  },
  {
   "cell_type": "code",
   "execution_count": 42,
   "metadata": {},
   "outputs": [
    {
     "data": {
      "text/plain": [
       "8"
      ]
     },
     "execution_count": 42,
     "metadata": {},
     "output_type": "execute_result"
    }
   ],
   "source": [
    "lis = [1,2,3,5,8,3,5,6]\n",
    "findmax_list_kl(lis)\n",
    "findmax_list_book(lis)"
   ]
  },
  {
   "cell_type": "markdown",
   "metadata": {},
   "source": [
    "Arithmetic#3 Quick sort"
   ]
  },
  {
   "cell_type": "raw",
   "metadata": {},
   "source": [
    "1.Choose the first number as the reference\n",
    "2.Divide the list into 2 sub_list, one contains the element smaller than reference, another contains bigger\n",
    "3.End the recursion untill all sub_list only contains 1 or 0 element"
   ]
  },
  {
   "cell_type": "code",
   "execution_count": 68,
   "metadata": {},
   "outputs": [],
   "source": [
    "def quick_sort(lis):\n",
    "    if len(lis) == 0 or len(lis) == 1:\n",
    "        return lis;\n",
    "    else:\n",
    "        reference = lis[0];\n",
    "#         my version\n",
    "#         lis_left = [];\n",
    "#         lis_right = [];\n",
    "#         for i in lis[1:]:\n",
    "#             if i < reference:\n",
    "#                 lis_left.append(i);\n",
    "#             else:\n",
    "#                 lis_right.append(i);\n",
    "#         book's version\n",
    "        lis_left = [i for i in lis[1:] if i <= reference];\n",
    "        lis_right = [i for i in lis[1:] if i > reference];\n",
    "        return quick_sort(lis_left) + [reference] + quick_sort(lis_right);"
   ]
  },
  {
   "cell_type": "code",
   "execution_count": 69,
   "metadata": {},
   "outputs": [
    {
     "data": {
      "text/plain": [
       "[1, 2, 3, 3, 5, 5, 6, 8]"
      ]
     },
     "execution_count": 69,
     "metadata": {},
     "output_type": "execute_result"
    }
   ],
   "source": [
    "lis = [1,2,3,5,8,3,5,6]\n",
    "quick_sort(lis)"
   ]
  },
  {
   "cell_type": "raw",
   "metadata": {},
   "source": [
    "worst case: O(n^2) like [1,2,3,4], every recursion chooses the first element of the list\n",
    "best case/average case: O(n*logn), every recursion chooses a random element"
   ]
  }
 ],
 "metadata": {
  "kernelspec": {
   "display_name": "Python 3",
   "language": "python",
   "name": "python3"
  },
  "language_info": {
   "codemirror_mode": {
    "name": "ipython",
    "version": 3
   },
   "file_extension": ".py",
   "mimetype": "text/x-python",
   "name": "python",
   "nbconvert_exporter": "python",
   "pygments_lexer": "ipython3",
   "version": "3.7.0"
  }
 },
 "nbformat": 4,
 "nbformat_minor": 2
}
