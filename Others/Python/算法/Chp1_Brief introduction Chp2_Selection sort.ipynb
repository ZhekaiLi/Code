{
 "cells": [
  {
   "cell_type": "markdown",
   "metadata": {},
   "source": [
    "# 1.Brief introduction"
   ]
  },
  {
   "cell_type": "raw",
   "metadata": {},
   "source": [
    "1.Big O\n",
    "O(1):Hash table\n",
    "O(n):Easy search\n",
    "O(logn):Binary search\n",
    "O(n*logn):Quick sort\n",
    "O(n^2):Choose sort\n",
    "O(n!):answer for tranveling salseman problem"
   ]
  },
  {
   "cell_type": "markdown",
   "metadata": {},
   "source": [
    "Arithmetic#1 Binary search"
   ]
  },
  {
   "cell_type": "code",
   "execution_count": 7,
   "metadata": {},
   "outputs": [],
   "source": [
    "def binary_search(lis, num): \n",
    "    low = 0\n",
    "    high = len(lis) - 1\n",
    "    while low <= high:\n",
    "        mid = (low + high) // 2\n",
    "        guess = lis[mid]\n",
    "        if guess == num:\n",
    "            return mid\n",
    "        elif guess < num:\n",
    "            low = mid + 1\n",
    "        else:\n",
    "            high = mid - 1\n",
    "    return \"Not found\""
   ]
  },
  {
   "cell_type": "code",
   "execution_count": 8,
   "metadata": {},
   "outputs": [
    {
     "name": "stdout",
     "output_type": "stream",
     "text": [
      "Not found\n"
     ]
    }
   ],
   "source": [
    "lis = [1,2,4,5,7,8,9]\n",
    "num = 6\n",
    "print(binary_search(lis, num))"
   ]
  },
  {
   "cell_type": "code",
   "execution_count": 11,
   "metadata": {},
   "outputs": [
    {
     "name": "stdout",
     "output_type": "stream",
     "text": [
      "[0, 64, 69, 75, 84]\n",
      "<class 'list'>\n"
     ]
    }
   ],
   "source": [
    "import random\n",
    "a = sorted(random.sample(range(0, 100), 5))\n",
    "print(a)\n",
    "print(type(a))"
   ]
  },
  {
   "cell_type": "markdown",
   "metadata": {},
   "source": [
    "# 2.Selection sort"
   ]
  },
  {
   "cell_type": "raw",
   "metadata": {},
   "source": [
    "1.Linked list & Array\n",
    "Array: \n",
    "    1.Occupy a continuous memory spaces\n",
    "    2.Read: O(1) can easily visit element in any position\n",
    "    3.Insert: O(n) hard, should move all following elements backward\n",
    "    4.Delete: O(n)\n",
    "Linked list: \n",
    "    1.Spaces do not need to be continuous)\n",
    "    2.Read: O(n) if want to visit the element in n th position, you have to visit from the element in first position, then ... umtil n th\n",
    "    3.Insert: O(1) easy, just modify the address to which the previous element points\n",
    "    4.Delete: O(1)"
   ]
  },
  {
   "cell_type": "markdown",
   "metadata": {},
   "source": [
    "Arithmetic#2 Selection sort"
   ]
  },
  {
   "cell_type": "code",
   "execution_count": 4,
   "metadata": {},
   "outputs": [],
   "source": [
    "def selection_sort(lis):\n",
    "    for i in range(len(lis)-1): \n",
    "        minimum = lis[i];\n",
    "        minimum_index = i;\n",
    "        for j in range(i+1, len(lis)):\n",
    "            if lis[j] < minimum:\n",
    "                minimum = lis[j];\n",
    "                minimum_index = j;\n",
    "        lis[i], lis[minimum_index] = lis[minimum_index], lis[i];\n",
    "    return lis;"
   ]
  },
  {
   "cell_type": "code",
   "execution_count": 5,
   "metadata": {},
   "outputs": [
    {
     "data": {
      "text/plain": [
       "[1, 2, 3, 3, 4, 5, 5, 7, 8]"
      ]
     },
     "execution_count": 5,
     "metadata": {},
     "output_type": "execute_result"
    }
   ],
   "source": [
    "lis = [2,5,8,3,5,7,1,4,3]\n",
    "selection_sort(lis)"
   ]
  }
 ],
 "metadata": {
  "kernelspec": {
   "display_name": "Python 3",
   "language": "python",
   "name": "python3"
  },
  "language_info": {
   "codemirror_mode": {
    "name": "ipython",
    "version": 3
   },
   "file_extension": ".py",
   "mimetype": "text/x-python",
   "name": "python",
   "nbconvert_exporter": "python",
   "pygments_lexer": "ipython3",
   "version": "3.7.0"
  }
 },
 "nbformat": 4,
 "nbformat_minor": 2
}
