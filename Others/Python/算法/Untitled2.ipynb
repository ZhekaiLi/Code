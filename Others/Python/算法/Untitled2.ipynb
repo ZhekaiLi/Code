{
 "cells": [
  {
   "cell_type": "markdown",
   "metadata": {},
   "source": [
    "# 10.K-nearest algorithm"
   ]
  },
  {
   "cell_type": "raw",
   "metadata": {},
   "source": [
    "1.K-nearest algorithm are widely used in music/movie website. \n",
    "    The website server will create an coordinate for each user, according to his/her favorate.\n",
    "    Then if A's coordinate is near to B's, once A love a song/film, the website server will recommend it to B."
   ]
  },
  {
   "cell_type": "raw",
   "metadata": {},
   "source": [
    "2.Classification, regression and prediction\n",
    "    Take \"How many bread should I make today?\" as an example.\n",
    "    Parameters:\n",
    "        1.weather index (1-5, bad to good)\n",
    "        2.weekend or weekday (1 weekend, 0 weekday)\n",
    "        3.is there sale (1 have sale, 0 have no sale)\n",
    "    Today is Sunday, weather is good but no sale (4, 1, 0), how many bread should I make today?\n",
    "    Choose nearest four points to get the prediction (average)"
   ]
  },
  {
   "cell_type": "code",
   "execution_count": 1,
   "metadata": {},
   "outputs": [],
   "source": [
    "dic = {}\n",
    "dic[(5, 1,  0)] = 300; dic[(3, 1, 1)] = 225; dic[(1, 1, 0)] = 75; dic[(4, 0, 1)] = 200; dic[(4, 0, 0)] = 150; dic[(2, 0, 0)] = 50"
   ]
  },
  {
   "cell_type": "code",
   "execution_count": 2,
   "metadata": {},
   "outputs": [
    {
     "data": {
      "text/plain": [
       "{(5, 1, 0): 300,\n",
       " (3, 1, 1): 225,\n",
       " (1, 1, 0): 75,\n",
       " (4, 0, 1): 200,\n",
       " (4, 0, 0): 150,\n",
       " (2, 0, 0): 50}"
      ]
     },
     "execution_count": 2,
     "metadata": {},
     "output_type": "execute_result"
    }
   ],
   "source": [
    "today = (4, 1, 0)\n",
    "breads_needed = 0\n",
    "for day, breads in dic.items():\n",
    "    \n"
   ]
  },
  {
   "cell_type": "code",
   "execution_count": null,
   "metadata": {},
   "outputs": [],
   "source": [
    "cosine similarity is needed to be studied"
   ]
  }
 ],
 "metadata": {
  "kernelspec": {
   "display_name": "Python 3",
   "language": "python",
   "name": "python3"
  },
  "language_info": {
   "codemirror_mode": {
    "name": "ipython",
    "version": 3
   },
   "file_extension": ".py",
   "mimetype": "text/x-python",
   "name": "python",
   "nbconvert_exporter": "python",
   "pygments_lexer": "ipython3",
   "version": "3.7.0"
  }
 },
 "nbformat": 4,
 "nbformat_minor": 2
}
